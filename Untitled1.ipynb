{
  "nbformat": 4,
  "nbformat_minor": 0,
  "metadata": {
    "colab": {
      "name": "Untitled1.ipynb",
      "provenance": [],
      "authorship_tag": "ABX9TyP9eKfLYaBQD0zNUTIWuozw",
      "include_colab_link": true
    },
    "kernelspec": {
      "name": "python3",
      "display_name": "Python 3"
    },
    "language_info": {
      "name": "python"
    }
  },
  "cells": [
    {
      "cell_type": "markdown",
      "metadata": {
        "id": "view-in-github",
        "colab_type": "text"
      },
      "source": [
        "<a href=\"https://colab.research.google.com/github/kasiviswanath1277/BasicML/blob/main/Untitled1.ipynb\" target=\"_parent\"><img src=\"https://colab.research.google.com/assets/colab-badge.svg\" alt=\"Open In Colab\"/></a>"
      ]
    },
    {
      "cell_type": "code",
      "metadata": {
        "colab": {
          "base_uri": "https://localhost:8080/"
        },
        "id": "DmrMYgPt01mk",
        "outputId": "6fb76123-9191-433b-b511-7d6984582e4a"
      },
      "source": [
        "# This program prints Hello, world!\n",
        "\n",
        "print('Hello, world!')"
      ],
      "execution_count": 1,
      "outputs": [
        {
          "output_type": "stream",
          "name": "stdout",
          "text": [
            "Hello, world!\n"
          ]
        }
      ]
    },
    {
      "cell_type": "code",
      "metadata": {
        "colab": {
          "base_uri": "https://localhost:8080/"
        },
        "id": "5e7Z_R6D0-tj",
        "outputId": "20f6356f-7a3e-43ee-a8a0-a23d612e8fce"
      },
      "source": [
        "# This program adds two numbers\n",
        "\n",
        "num1 = 1.5\n",
        "num2 = 6.3\n",
        "\n",
        "# Add two numbers\n",
        "sum = num1 + num2\n",
        "\n",
        "# Display the sum\n",
        "print('The sum of {0} and {1} is {2}'.format(num1, num2, sum))"
      ],
      "execution_count": 2,
      "outputs": [
        {
          "output_type": "stream",
          "name": "stdout",
          "text": [
            "The sum of 1.5 and 6.3 is 7.8\n"
          ]
        }
      ]
    },
    {
      "cell_type": "code",
      "metadata": {
        "colab": {
          "base_uri": "https://localhost:8080/"
        },
        "id": "R_oYNo3l1Oqz",
        "outputId": "a1ccf91c-1d5a-4d8c-bcd9-738a11bec5b4"
      },
      "source": [
        "# Python Program to calculate the square root\n",
        "\n",
        "# Note: change this value for a different result\n",
        "num = 8 \n",
        "\n",
        "# To take the input from the user\n",
        "#num = float(input('Enter a number: '))\n",
        "\n",
        "num_sqrt = num ** 0.5\n",
        "print('The square root of %0.3f is %0.3f'%(num ,num_sqrt))"
      ],
      "execution_count": 3,
      "outputs": [
        {
          "output_type": "stream",
          "name": "stdout",
          "text": [
            "The square root of 8.000 is 2.828\n"
          ]
        }
      ]
    }
  ]
}